{
 "cells": [
  {
   "cell_type": "code",
   "execution_count": 2,
   "metadata": {},
   "outputs": [],
   "source": [
    "import bs4\n",
    "from urllib.request import urlopen as uo\n",
    "from bs4 import BeautifulSoup as BS"
   ]
  },
  {
   "cell_type": "code",
   "execution_count": 3,
   "metadata": {},
   "outputs": [],
   "source": [
    "new_urljp = 'https://www.4coffshore.com/windfarms/windfarms.aspx?windfarmId=JP13'\n",
    "new_urlt = 'https://www.4coffshore.com/windfarms/windfarms.aspx?windfarmId=TW22'\n",
    "new_urlg = 'https://www.4coffshore.com/windfarms/windfarms.aspx?windfarmId=DE13'\n",
    "new_urluk = 'https://www.4coffshore.com/windfarms/windfarms.aspx?windfarmId=UK36'"
   ]
  },
  {
   "cell_type": "code",
   "execution_count": 4,
   "metadata": {},
   "outputs": [
    {
     "data": {
      "text/plain": [
       "22"
      ]
     },
     "execution_count": 4,
     "metadata": {},
     "output_type": "execute_result"
    }
   ],
   "source": [
    "filename = 'Project_Name.csv'\n",
    "f = open(filename, 'w')\n",
    "headers = \"Country, Project Name\\n\"\n",
    "f.write(headers)"
   ]
  },
  {
   "cell_type": "code",
   "execution_count": 5,
   "metadata": {},
   "outputs": [],
   "source": [
    "#Establish connection, grab the page.\n",
    "ucjp = uo(new_urljp)\n",
    "raw_pagejp = ucjp.read()\n",
    "ucjp.close()\n",
    "\n",
    "uct = uo(new_urlt)\n",
    "raw_paget = uct.read()\n",
    "uct.close()\n",
    "\n",
    "ucg = uo(new_urlg)\n",
    "raw_pageg = ucg.read()\n",
    "ucg.close()\n",
    "\n",
    "ucuk = uo(new_urljp)\n",
    "raw_pageuk = ucuk.read()\n",
    "ucuk.close()"
   ]
  },
  {
   "cell_type": "code",
   "execution_count": 6,
   "metadata": {},
   "outputs": [],
   "source": [
    "#HTML parsing\n",
    "parsed_pagejp = BS(raw_pagejp, \"html.parser\")\n",
    "parsed_paget = BS(raw_paget, \"html.parser\")\n",
    "parsed_pageg = BS(raw_pageg, \"html.parser\")\n",
    "parsed_pageuk = BS(raw_pageuk, \"html.parser\")"
   ]
  },
  {
   "cell_type": "code",
   "execution_count": 28,
   "metadata": {},
   "outputs": [
    {
     "name": "stdout",
     "output_type": "stream",
     "text": [
      "[]\n"
     ]
    }
   ],
   "source": [
    "instalink= 'https://www.instagram.com/purvika.shukla'\n",
    "\n",
    "instau = uo(instalink)\n",
    "raw_pageinsta = instau.read()\n",
    "instau.close()\n",
    "\n",
    "parsed_insta=BS(raw_pageinsta, \"html.parser\")\n",
    "#print (parsed_insta)\n",
    "\n",
    "followers=parsed_insta.find_all('span', {'class':'g47SY'})\n",
    "print (followers)"
   ]
  },
  {
   "cell_type": "code",
   "execution_count": 44,
   "metadata": {},
   "outputs": [
    {
     "name": "stdout",
     "output_type": "stream",
     "text": [
      "50\n",
      "Floating Offshore Wind Turbine Demonstration Project - Sasebo - 1:10 scale prototype\n",
      "Sasebo Heavy Industries Co., Ltd (佐世保重工業)\n",
      "Nagasaki, Sasebo Sasebo Harbour 33.154° (Note: Estimated/Illustrative Location) 129.715° (Note: Estimated/Illustrative Location)\n",
      "GOTO FOWT Floating Offshore Wind Turbine  - 100kW\n",
      "Fuji Heavy Industries Ltd.(富士重工業株式会社)\n",
      "Nagasaki, Goto, Kabashima Goto-nada sea 32.741° 128.995°\n"
     ]
    }
   ],
   "source": [
    "#JAPAN\n",
    "containerjp = parsed_pagejp.findAll('a', {'class':'linkWF' })\n",
    "print(len(containerjp))\n",
    "#print(containerjp)\n",
    "titlejp=\"JAPAN\"\n",
    "n=0\n",
    "for containjp in containerjp:\n",
    "    if(n<2):\n",
    "        print (containjp.get(\"title\"))\n",
    "        linkjp=containjp.get(\"href\")\n",
    "        commonadd='https://www.4coffshore.com'\n",
    "        detailslinkjp=commonadd+linkjp\n",
    "        #print(detailslinkjp)\n",
    "        \n",
    "        ucjpd = uo(detailslinkjp)\n",
    "        detail_pagejp = ucjpd.read()\n",
    "        ucjpd.close()\n",
    "        \n",
    "        parsed_pagejpd = BS(detail_pagejp, \"html.parser\")\n",
    "        detailsdivjp=parsed_pagejpd.findAll('div', {'class':'gvshOrg'})\n",
    "        \n",
    "        for detailjp in detailsdivjp:\n",
    "            developjp=detailjp.a.text\n",
    "        \n",
    "        print(developjp)\n",
    "        \n",
    "        regionjp=parsed_pagejpd.findAll('span', {'class':'attr'})\n",
    "        #rint(regionjp)\n",
    "        exacregjp=regionjp[3].text\n",
    "        capacityjp=regionjp[]\n",
    "        seajp=regionjp[17].text\n",
    "        latjp=regionjp[18].text\n",
    "        lonjp=regionjp[19].text\n",
    "        print(exacregjp, seajp, latjp, lonjp)\n",
    "        \n",
    "        f.write(titlejp + \",\" + (containjp.get(\"title\")) + \"\\n\")\n",
    "        n=n+1"
   ]
  },
  {
   "cell_type": "code",
   "execution_count": 7,
   "metadata": {},
   "outputs": [
    {
     "name": "stdout",
     "output_type": "stream",
     "text": [
      "50\n",
      "Formosa 1 OWF Phase 1\n",
      "Formosa 1 OWF Phase 2\n",
      "Changhua - Taipower\n",
      "Changfang - (ZoP 27) - CIP\n",
      "Changhua - (ZoP 26) - Taipower\n",
      "Changhua - (ZoP 28) - Strait Wind Power\n",
      "Changhua - South - Taipower\n",
      "Future Zones 1\n",
      "Future Zones 2\n",
      "Future Zones 3\n",
      "Future Zones 4\n",
      "Future Zones 5\n",
      "Greater Changhua North East (ZoP 13) - Ørsted\n",
      "Greater Changhua North West (ZoP 12) - Ørsted\n",
      "Greater Changhua South East (ZoP 15) - Ørsted\n"
     ]
    }
   ],
   "source": [
    "#TAIWAN\n",
    "containert = parsed_paget.findAll('a', {'class':'linkWF' })\n",
    "print(len(containert))\n",
    "#print(containert)\n",
    "titlet=\"TAIWAN\"\n",
    "o=0\n",
    "for containt in containert:\n",
    "    if(o<15):\n",
    "        print (containt.get(\"title\"))\n",
    "        f.write(titlet + \",\" + (containt.get(\"title\")) + \"\\n\")\n",
    "        o=o+1"
   ]
  },
  {
   "cell_type": "code",
   "execution_count": 8,
   "metadata": {},
   "outputs": [
    {
     "name": "stdout",
     "output_type": "stream",
     "text": [
      "50\n",
      "Hooksiel\n",
      "Alpha Ventus\n",
      "Amrumbank West\n",
      "BARD Offshore 1\n",
      "Borkum Riffgrund 1\n",
      "Breitling\n",
      "Butendiek\n",
      "DanTysk\n",
      "EnBW Baltic 1\n",
      "EnBW Baltic 2\n",
      "ENOVA Offshore Project Ems Emden\n",
      "Global Tech I\n",
      "Gode Wind 1 and 2\n",
      "Meerwind Süd/Ost\n",
      "Nordergründe\n"
     ]
    }
   ],
   "source": [
    "#GERMANY\n",
    "containerg = parsed_pageg.findAll('a', {'class':'linkWF' })\n",
    "print(len(containerg))\n",
    "#print(containerg)\n",
    "titleg=\"GERMANY\"\n",
    "p=0\n",
    "for containg in containerg:\n",
    "    if(p<15):\n",
    "        print (containg.get(\"title\"))\n",
    "        f.write(titleg + \",\" + (containg.get(\"title\")) + \"\\n\")\n",
    "        p=p+1"
   ]
  },
  {
   "cell_type": "code",
   "execution_count": 9,
   "metadata": {},
   "outputs": [
    {
     "name": "stdout",
     "output_type": "stream",
     "text": [
      "50\n",
      "Floating Offshore Wind Turbine Demonstration Project - Sasebo - 1:10 scale prototype\n",
      "GOTO FOWT Floating Offshore Wind Turbine  - 100kW\n",
      "GOTO FOWT Floating Offshore Wind Turbine - 2MW\n",
      "Choshi Offshore Demonstration Project\n",
      "Eurus Akita Port Wind Farm (shoreline)\n",
      "Fukushima Floating OffshoRe Wind FARm Demonstration Project (Forward) Phase 1\n",
      "Hitachi Demonstration Prototype (onshore)\n",
      "Kamisu Nearshore Wind Farm - phase 1\n",
      "Kamisu Nearshore Wind Farm - phase 2\n",
      "Kitakyushu Offshore Demonstration Project\n",
      "Kyushu University Wind Lens Project - phase 1\n",
      "Sakata North Port (nearshore)\n",
      "Sakiyama 2MW Floating Wind Turbine\n",
      "Setana\n",
      "Fukushima Floating OffshoRe Wind FARm Demonstration Project (Forward) Phase 2\n"
     ]
    }
   ],
   "source": [
    "#UK\n",
    "containeruk = parsed_pageuk.findAll('a', {'class':'linkWF' })\n",
    "print(len(containeruk))\n",
    "#print(containeruk)\n",
    "titleuk=\"UK\"\n",
    "q=0\n",
    "for containuk in containeruk:\n",
    "    if(q<15):\n",
    "        print (containuk.get(\"title\"))\n",
    "        f.write(titleuk + \",\" + (containuk.get(\"title\")) + \"\\n\")\n",
    "        q=q+1"
   ]
  },
  {
   "cell_type": "code",
   "execution_count": 10,
   "metadata": {},
   "outputs": [],
   "source": [
    "f.close()"
   ]
  },
  {
   "cell_type": "code",
   "execution_count": null,
   "metadata": {},
   "outputs": [],
   "source": []
  }
 ],
 "metadata": {
  "kernelspec": {
   "display_name": "Python 3",
   "language": "python",
   "name": "python3"
  },
  "language_info": {
   "codemirror_mode": {
    "name": "ipython",
    "version": 3
   },
   "file_extension": ".py",
   "mimetype": "text/x-python",
   "name": "python",
   "nbconvert_exporter": "python",
   "pygments_lexer": "ipython3",
   "version": "3.6.4"
  }
 },
 "nbformat": 4,
 "nbformat_minor": 1
}
